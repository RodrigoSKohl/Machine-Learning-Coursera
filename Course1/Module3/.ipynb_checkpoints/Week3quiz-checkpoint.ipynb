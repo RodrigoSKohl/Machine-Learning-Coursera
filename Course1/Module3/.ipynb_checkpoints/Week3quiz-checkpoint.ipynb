{
 "cells": [
  {
   "cell_type": "markdown",
   "id": "d54d86f4-ff76-43ff-ba01-52d7b04ee247",
   "metadata": {},
   "source": [
    "# init"
   ]
  },
  {
   "cell_type": "code",
   "execution_count": 36,
   "id": "8106fa71-27b7-42b5-bda4-9fd8e63ba168",
   "metadata": {},
   "outputs": [
    {
     "data": {
      "text/html": [
       "<pre>Logistic regression:</pre>"
      ],
      "text/plain": [
       "Logistic regression:"
      ]
     },
     "metadata": {},
     "output_type": "display_data"
    },
    {
     "data": {
      "text/html": [
       "<pre>--------------------------------------------------------</pre>"
      ],
      "text/plain": [
       "--------------------------------------------------------"
      ]
     },
     "metadata": {},
     "output_type": "display_data"
    },
    {
     "data": {
      "text/html": [
       "<pre>Number of examples          : 133448</pre>"
      ],
      "text/plain": [
       "Number of examples          : 133448"
      ]
     },
     "metadata": {},
     "output_type": "display_data"
    },
    {
     "data": {
      "text/html": [
       "<pre>Number of classes           : 2</pre>"
      ],
      "text/plain": [
       "Number of classes           : 2"
      ]
     },
     "metadata": {},
     "output_type": "display_data"
    },
    {
     "data": {
      "text/html": [
       "<pre>Number of feature columns   : 1</pre>"
      ],
      "text/plain": [
       "Number of feature columns   : 1"
      ]
     },
     "metadata": {},
     "output_type": "display_data"
    },
    {
     "data": {
      "text/html": [
       "<pre>Number of unpacked features : 57356</pre>"
      ],
      "text/plain": [
       "Number of unpacked features : 57356"
      ]
     },
     "metadata": {},
     "output_type": "display_data"
    },
    {
     "data": {
      "text/html": [
       "<pre>Number of coefficients      : 57357</pre>"
      ],
      "text/plain": [
       "Number of coefficients      : 57357"
      ]
     },
     "metadata": {},
     "output_type": "display_data"
    },
    {
     "data": {
      "text/html": [
       "<pre>Starting L-BFGS</pre>"
      ],
      "text/plain": [
       "Starting L-BFGS"
      ]
     },
     "metadata": {},
     "output_type": "display_data"
    },
    {
     "data": {
      "text/html": [
       "<pre>--------------------------------------------------------</pre>"
      ],
      "text/plain": [
       "--------------------------------------------------------"
      ]
     },
     "metadata": {},
     "output_type": "display_data"
    },
    {
     "data": {
      "text/html": [
       "<pre>+-----------+----------+-----------+--------------+-------------------+---------------------+</pre>"
      ],
      "text/plain": [
       "+-----------+----------+-----------+--------------+-------------------+---------------------+"
      ]
     },
     "metadata": {},
     "output_type": "display_data"
    },
    {
     "data": {
      "text/html": [
       "<pre>| Iteration | Passes   | Step size | Elapsed Time | Training Accuracy | Validation Accuracy |</pre>"
      ],
      "text/plain": [
       "| Iteration | Passes   | Step size | Elapsed Time | Training Accuracy | Validation Accuracy |"
      ]
     },
     "metadata": {},
     "output_type": "display_data"
    },
    {
     "data": {
      "text/html": [
       "<pre>+-----------+----------+-----------+--------------+-------------------+---------------------+</pre>"
      ],
      "text/plain": [
       "+-----------+----------+-----------+--------------+-------------------+---------------------+"
      ]
     },
     "metadata": {},
     "output_type": "display_data"
    },
    {
     "data": {
      "text/html": [
       "<pre>| 0         | 4        | 0.250000  | 0.797615     | 0.841421          | 0.840019            |</pre>"
      ],
      "text/plain": [
       "| 0         | 4        | 0.250000  | 0.797615     | 0.841421          | 0.840019            |"
      ]
     },
     "metadata": {},
     "output_type": "display_data"
    },
    {
     "data": {
      "text/html": [
       "<pre>| 1         | 9        | 3.250000  | 2.166295     | 0.931359          | 0.911362            |</pre>"
      ],
      "text/plain": [
       "| 1         | 9        | 3.250000  | 2.166295     | 0.931359          | 0.911362            |"
      ]
     },
     "metadata": {},
     "output_type": "display_data"
    },
    {
     "data": {
      "text/html": [
       "<pre>| 2         | 11       | 2.669978  | 2.752021     | 0.938650          | 0.916466            |</pre>"
      ],
      "text/plain": [
       "| 2         | 11       | 2.669978  | 2.752021     | 0.938650          | 0.916466            |"
      ]
     },
     "metadata": {},
     "output_type": "display_data"
    },
    {
     "data": {
      "text/html": [
       "<pre>| 3         | 12       | 2.669978  | 3.092331     | 0.927417          | 0.901814            |</pre>"
      ],
      "text/plain": [
       "| 3         | 12       | 2.669978  | 3.092331     | 0.927417          | 0.901814            |"
      ]
     },
     "metadata": {},
     "output_type": "display_data"
    },
    {
     "data": {
      "text/html": [
       "<pre>| 4         | 14       | 1.326072  | 3.620238     | 0.945200          | 0.918088            |</pre>"
      ],
      "text/plain": [
       "| 4         | 14       | 1.326072  | 3.620238     | 0.945200          | 0.918088            |"
      ]
     },
     "metadata": {},
     "output_type": "display_data"
    },
    {
     "data": {
      "text/html": [
       "<pre>| 9         | 20       | 1.326072  | 5.525668     | 0.977654          | 0.917698            |</pre>"
      ],
      "text/plain": [
       "| 9         | 20       | 1.326072  | 5.525668     | 0.977654          | 0.917698            |"
      ]
     },
     "metadata": {},
     "output_type": "display_data"
    },
    {
     "data": {
      "text/html": [
       "<pre>+-----------+----------+-----------+--------------+-------------------+---------------------+</pre>"
      ],
      "text/plain": [
       "+-----------+----------+-----------+--------------+-------------------+---------------------+"
      ]
     },
     "metadata": {},
     "output_type": "display_data"
    },
    {
     "data": {
      "text/html": [
       "<pre>Logistic regression:</pre>"
      ],
      "text/plain": [
       "Logistic regression:"
      ]
     },
     "metadata": {},
     "output_type": "display_data"
    },
    {
     "data": {
      "text/html": [
       "<pre>--------------------------------------------------------</pre>"
      ],
      "text/plain": [
       "--------------------------------------------------------"
      ]
     },
     "metadata": {},
     "output_type": "display_data"
    },
    {
     "data": {
      "text/html": [
       "<pre>Number of examples          : 133448</pre>"
      ],
      "text/plain": [
       "Number of examples          : 133448"
      ]
     },
     "metadata": {},
     "output_type": "display_data"
    },
    {
     "data": {
      "text/html": [
       "<pre>Number of classes           : 2</pre>"
      ],
      "text/plain": [
       "Number of classes           : 2"
      ]
     },
     "metadata": {},
     "output_type": "display_data"
    },
    {
     "data": {
      "text/html": [
       "<pre>Number of feature columns   : 11</pre>"
      ],
      "text/plain": [
       "Number of feature columns   : 11"
      ]
     },
     "metadata": {},
     "output_type": "display_data"
    },
    {
     "data": {
      "text/html": [
       "<pre>Number of unpacked features : 11</pre>"
      ],
      "text/plain": [
       "Number of unpacked features : 11"
      ]
     },
     "metadata": {},
     "output_type": "display_data"
    },
    {
     "data": {
      "text/html": [
       "<pre>Number of coefficients      : 12</pre>"
      ],
      "text/plain": [
       "Number of coefficients      : 12"
      ]
     },
     "metadata": {},
     "output_type": "display_data"
    },
    {
     "data": {
      "text/html": [
       "<pre>Starting Newton Method</pre>"
      ],
      "text/plain": [
       "Starting Newton Method"
      ]
     },
     "metadata": {},
     "output_type": "display_data"
    },
    {
     "data": {
      "text/html": [
       "<pre>--------------------------------------------------------</pre>"
      ],
      "text/plain": [
       "--------------------------------------------------------"
      ]
     },
     "metadata": {},
     "output_type": "display_data"
    },
    {
     "data": {
      "text/html": [
       "<pre>+-----------+----------+--------------+-------------------+---------------------+</pre>"
      ],
      "text/plain": [
       "+-----------+----------+--------------+-------------------+---------------------+"
      ]
     },
     "metadata": {},
     "output_type": "display_data"
    },
    {
     "data": {
      "text/html": [
       "<pre>| Iteration | Passes   | Elapsed Time | Training Accuracy | Validation Accuracy |</pre>"
      ],
      "text/plain": [
       "| Iteration | Passes   | Elapsed Time | Training Accuracy | Validation Accuracy |"
      ]
     },
     "metadata": {},
     "output_type": "display_data"
    },
    {
     "data": {
      "text/html": [
       "<pre>+-----------+----------+--------------+-------------------+---------------------+</pre>"
      ],
      "text/plain": [
       "+-----------+----------+--------------+-------------------+---------------------+"
      ]
     },
     "metadata": {},
     "output_type": "display_data"
    },
    {
     "data": {
      "text/html": [
       "<pre>| 1         | 2        | 0.169973     | 0.847401          | 0.845874            |</pre>"
      ],
      "text/plain": [
       "| 1         | 2        | 0.169973     | 0.847401          | 0.845874            |"
      ]
     },
     "metadata": {},
     "output_type": "display_data"
    },
    {
     "data": {
      "text/html": [
       "<pre>| 2         | 3        | 0.298517     | 0.847514          | 0.846085            |</pre>"
      ],
      "text/plain": [
       "| 2         | 3        | 0.298517     | 0.847514          | 0.846085            |"
      ]
     },
     "metadata": {},
     "output_type": "display_data"
    },
    {
     "data": {
      "text/html": [
       "<pre>| 3         | 4        | 0.390102     | 0.847626          | 0.846115            |</pre>"
      ],
      "text/plain": [
       "| 3         | 4        | 0.390102     | 0.847626          | 0.846115            |"
      ]
     },
     "metadata": {},
     "output_type": "display_data"
    },
    {
     "data": {
      "text/html": [
       "<pre>| 4         | 5        | 0.471960     | 0.847708          | 0.846385            |</pre>"
      ],
      "text/plain": [
       "| 4         | 5        | 0.471960     | 0.847708          | 0.846385            |"
      ]
     },
     "metadata": {},
     "output_type": "display_data"
    },
    {
     "data": {
      "text/html": [
       "<pre>| 5         | 6        | 0.559347     | 0.847708          | 0.846385            |</pre>"
      ],
      "text/plain": [
       "| 5         | 6        | 0.559347     | 0.847708          | 0.846385            |"
      ]
     },
     "metadata": {},
     "output_type": "display_data"
    },
    {
     "data": {
      "text/html": [
       "<pre>| 6         | 7        | 0.643465     | 0.847708          | 0.846385            |</pre>"
      ],
      "text/plain": [
       "| 6         | 7        | 0.643465     | 0.847708          | 0.846385            |"
      ]
     },
     "metadata": {},
     "output_type": "display_data"
    },
    {
     "data": {
      "text/html": [
       "<pre>+-----------+----------+--------------+-------------------+---------------------+</pre>"
      ],
      "text/plain": [
       "+-----------+----------+--------------+-------------------+---------------------+"
      ]
     },
     "metadata": {},
     "output_type": "display_data"
    },
    {
     "data": {
      "text/html": [
       "<pre>SUCCESS: Optimal solution found.</pre>"
      ],
      "text/plain": [
       "SUCCESS: Optimal solution found."
      ]
     },
     "metadata": {},
     "output_type": "display_data"
    },
    {
     "data": {
      "text/html": [
       "<pre></pre>"
      ],
      "text/plain": []
     },
     "metadata": {},
     "output_type": "display_data"
    }
   ],
   "source": [
    "import turicreate\n",
    "\n",
    "\n",
    "products = turicreate.SFrame('amazon_baby.sframe')\n",
    "int_columns = ['rating']\n",
    "\n",
    "for col in int_columns:\n",
    "    products[col] = products[col].apply(int)\n",
    "products = products[products['rating']!= 3]    \n",
    "products['sentiment'] = products['rating'] >= 4\n",
    "products['word_count'] = turicreate.text_analytics.count_words(products['review'])\n",
    "train_data,test_data = products.random_split(.8,seed=0)\n",
    "sentiment_model = turicreate.logistic_classifier.create(train_data,target='sentiment', features=['word_count'], validation_set=test_data)\n",
    "\n",
    "\n",
    "selected_words = ['awesome', 'great', 'fantastic', 'amazing', 'love', 'horrible', 'bad', 'terrible', 'awful', 'wow', 'hate']\n",
    "\n",
    "def select_words(words_count,selected_words):\n",
    "    d = {}\n",
    "    for word in selected_words:\n",
    "        if word not in words_count: d[word] = 0\n",
    "        else: d[word] = words_count[word]\n",
    "    return d\n",
    "\n",
    "products['selected_word_count'] = products['word_count'].apply(lambda wc: select_words(wc, selected_words))\n",
    "\n",
    "for word in selected_words:\n",
    "    products[word] = products['word_count'].apply(lambda word_count: word_count[word] if word in word_count else 0)\n",
    "\n",
    "train_data_words,test_data_words = products.random_split(.8,seed=0)\n",
    "selected_words_model = turicreate.logistic_classifier.create(train_data_words,\n",
    "                                                     target='sentiment',\n",
    "                                                     features=selected_words,\n",
    "                                                     validation_set=test_data_words)\n"
   ]
  },
  {
   "cell_type": "markdown",
   "id": "8db12031-50be-42f0-9598-c8641aa88e87",
   "metadata": {},
   "source": [
    "### 1. Das 11 palavras em selected_words, qual é a mais usada nas avaliações do conjunto de dados?"
   ]
  },
  {
   "cell_type": "markdown",
   "id": "0845e6a7-e866-42e0-868d-b0865e9c1434",
   "metadata": {},
   "source": [
    "### 2. Das 11 palavras em selected_words, qual é a menos usada nas resenhas do conjunto de dados?  "
   ]
  },
  {
   "cell_type": "code",
   "execution_count": 38,
   "id": "e0f7d796-9ee7-4877-bd10-10d88057cf9d",
   "metadata": {},
   "outputs": [
    {
     "name": "stdout",
     "output_type": "stream",
     "text": [
      "Most used word: great with count: 55791.0\n",
      "Least used word: wow with count: 425\n"
     ]
    }
   ],
   "source": [
    "# Calcular a soma de ocorrências para cada palavra em selected_words\n",
    "word_counts = {word: products[word].sum() for word in selected_words}\n",
    "\n",
    "# Encontrar a palavra mais usada\n",
    "max_word = max(word_counts, key=word_counts.get)\n",
    "# Encontrar a palavra menos usada\n",
    "min_word = min(word_counts, key=word_counts.get)\n",
    "\n",
    "# Imprimir os resultados\n",
    "print('Most used word:', max_word, 'with count:', word_counts[max_word])\n",
    "print('Least used word:', min_word, 'with count:', word_counts[min_word])"
   ]
  },
  {
   "cell_type": "markdown",
   "id": "66d3e34f-055d-4a21-afbf-712257bd19b2",
   "metadata": {},
   "source": [
    "### 3. Das 11 palavras em selected_words, qual delas obteve o peso mais positivo no selected_words_model? "
   ]
  },
  {
   "cell_type": "markdown",
   "id": "d1267dfa-f196-4fb3-8a37-c9968ee57d3a",
   "metadata": {},
   "source": [
    "### 4. Das 11 palavras em selected_words, qual delas obteve o peso mais negativo no selected_words_model?"
   ]
  },
  {
   "cell_type": "code",
   "execution_count": 39,
   "id": "8cb45824-a34e-48ff-9d76-1c2cf5a80f28",
   "metadata": {},
   "outputs": [
    {
     "name": "stdout",
     "output_type": "stream",
     "text": [
      "most positive:  love 1.359268866922504\n",
      "most negative:  horrible -2.251335236759102\n"
     ]
    }
   ],
   "source": [
    "words_coefficients = selected_words_model.coefficients.sort(key_column_names='value')\n",
    "# Encontrar palavras com maior e menor valor usando lambda\n",
    "most_positive = max(words_coefficients, key=lambda x: x['value'])\n",
    "most_negative = min(words_coefficients, key=lambda x: x['value'])\n",
    "\n",
    "print('most positive: ', most_positive['name'], most_positive['value'])\n",
    "print('most negative: ', most_negative['name'], most_negative['value'])"
   ]
  },
  {
   "cell_type": "markdown",
   "id": "93c05c23-141b-47dc-b4dd-4b22357a4ec7",
   "metadata": {},
   "source": [
    "### 5. Qual dos seguintes intervalos contém a precisão do modelo selected_words_model nos dados de teste?"
   ]
  },
  {
   "cell_type": "code",
   "execution_count": 52,
   "id": "03a6e623-8548-4e47-83c9-0ea6408d0b27",
   "metadata": {},
   "outputs": [
    {
     "name": "stdout",
     "output_type": "stream",
     "text": [
      "+Accuracy: 0.8463848186404036\n"
     ]
    }
   ],
   "source": [
    "accuracy_selected_word = selected_words_model.evaluate(test_data_words)\n",
    "print(f\"+Accuracy: {accuracy_selected_word.get('accuracy')}\")\n"
   ]
  },
  {
   "cell_type": "markdown",
   "id": "1c9c46f9-f3d5-48d9-a4e4-44779cb8aef9",
   "metadata": {},
   "source": [
    "### 6. Qual dos intervalos a seguir contém a precisão do sentiment_model no IPython Notebook a partir de uma aula sobre test_data?"
   ]
  },
  {
   "cell_type": "code",
   "execution_count": 53,
   "id": "14b79839-1c7e-4966-8b7a-0e4615c848d9",
   "metadata": {},
   "outputs": [
    {
     "name": "stdout",
     "output_type": "stream",
     "text": [
      "+Accuracy: 0.9176975738650012\n"
     ]
    }
   ],
   "source": [
    "accuracy_sentiment_model = sentiment_model.evaluate(test_data)\n",
    "print(f\"+Accuracy: {accuracy_sentiment_model.get('accuracy')}\")\n"
   ]
  },
  {
   "cell_type": "markdown",
   "id": "97003ebd-597e-4219-9c97-54c14f987dbe",
   "metadata": {},
   "source": [
    "### 7 Qual dos intervalos a seguir contém a precisão do classificador de classe majoritária, que simplesmente prevê a classe majoritária nos dados de teste\n",
    ".835\n"
   ]
  },
  {
   "cell_type": "markdown",
   "id": "51790500-75e5-4deb-b974-1a08c3587e67",
   "metadata": {},
   "source": [
    "### 8. Como o senhor compara os diferentes modelos aprendidos com a abordagem de linha de base em que estamos apenas prevendo a classe majoritária? \n",
    "O modelo aprendido usando todas as palavras teve um desempenho muito melhor do que os outros dois.  As outras duas abordagens tiveram o mesmo desempenho."
   ]
  },
  {
   "cell_type": "markdown",
   "id": "b160931d-834f-4528-b96a-815732595750",
   "metadata": {},
   "source": [
    "### 9. Qual dos intervalos a seguir contém o \"predicted_sentiment\" para a avaliação mais positiva de \"Baby Trend Diaper Champ\", de acordo com o sentiment_model do IPython Notebook da palestra?"
   ]
  },
  {
   "cell_type": "code",
   "execution_count": 57,
   "id": "1544d218-4edb-4340-8b7b-9aa04041cf3e",
   "metadata": {},
   "outputs": [
    {
     "data": {
      "text/plain": [
       "dtype: float\n",
       "Rows: 1\n",
       "[0.9950122935569565]"
      ]
     },
     "execution_count": 57,
     "metadata": {},
     "output_type": "execute_result"
    }
   ],
   "source": [
    "diaper_champ_reviews = products[products['name']=='Baby Trend Diaper Champ']\n",
    "sentiment_model.predict(diaper_champ_reviews[0], output_type='probability')"
   ]
  },
  {
   "cell_type": "markdown",
   "id": "a0cd7371-8a66-4fdf-8734-e8ebfb4cc7e5",
   "metadata": {},
   "source": [
    "### 10. Considere a avaliação mais positiva de \"Baby Trend Diaper Champ\" de acordo com o sentiment_model do IPython Notebook da palestra. Qual dos seguintes intervalos contém o predicted_sentiment para essa avaliação, se usarmos o selected_words_model para analisá-la?"
   ]
  },
  {
   "cell_type": "code",
   "execution_count": 58,
   "id": "b16993ab-7592-4b33-8d3a-1089f2b4249e",
   "metadata": {},
   "outputs": [
    {
     "data": {
      "text/plain": [
       "dtype: float\n",
       "Rows: 1\n",
       "[0.7919288370624482]"
      ]
     },
     "execution_count": 58,
     "metadata": {},
     "output_type": "execute_result"
    }
   ],
   "source": [
    "selected_words_model.predict(diaper_champ_reviews[0], output_type='probability')"
   ]
  },
  {
   "cell_type": "markdown",
   "id": "6832e63d-1765-4ae9-8f95-d08d4fe2a169",
   "metadata": {},
   "source": [
    "### 11. Por que o valor do predicted_sentiment para a avaliação mais positiva encontrada usando o sentiment_model é muito mais positivo do que o valor previsto usando o selected_words_model?\n",
    "Nenhuma das selected_words apareceu no texto desta revisão. "
   ]
  },
  {
   "cell_type": "code",
   "execution_count": null,
   "id": "120e1f60-ee9d-4b9a-b3fb-783525a9f5f5",
   "metadata": {},
   "outputs": [],
   "source": []
  }
 ],
 "metadata": {
  "kernelspec": {
   "display_name": "Python 3 (ipykernel)",
   "language": "python",
   "name": "python3"
  },
  "language_info": {
   "codemirror_mode": {
    "name": "ipython",
    "version": 3
   },
   "file_extension": ".py",
   "mimetype": "text/x-python",
   "name": "python",
   "nbconvert_exporter": "python",
   "pygments_lexer": "ipython3",
   "version": "3.8.0"
  }
 },
 "nbformat": 4,
 "nbformat_minor": 5
}
