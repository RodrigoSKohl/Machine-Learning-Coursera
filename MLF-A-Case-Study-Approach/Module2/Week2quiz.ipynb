{
 "cells": [
  {
   "cell_type": "markdown",
   "id": "05cdecac-bccb-4e66-86be-925fed800a7e",
   "metadata": {},
   "source": [
    "# Previsão de atribuição de preços de imóveis"
   ]
  },
  {
   "cell_type": "markdown",
   "id": "e7c858a4-cb19-452b-9943-8374e7830af5",
   "metadata": {},
   "source": [
    "## Init "
   ]
  },
  {
   "cell_type": "code",
   "execution_count": 3,
   "id": "f4ef9ec8-cf3e-423d-831b-78bf0cc879bc",
   "metadata": {},
   "outputs": [],
   "source": [
    "import turicreate as tc\n",
    "sales = tc.SFrame('home_data.sframe')\n",
    "# Definir os nomes das colunas\n",
    "str_columns = ['bathrooms', 'bedrooms', 'floors', 'zipcode', 'condition', 'view', 'grade', 'yr_built', 'yr_renovated']\n",
    "int_columns = ['sqft_living', 'sqft_lot', 'price', 'sqft_above', 'sqft_basement', 'sqft_living15', 'sqft_lot15']\n",
    "bol_columns = ['waterfront']\n",
    "# Aplicar conversões ao SFrame\n",
    "for col in str_columns:\n",
    "    sales[col] = sales[col].apply(str)\n",
    "\n",
    "for col in int_columns:\n",
    "    sales[col] = sales[col].apply(int)\n",
    "\n",
    "for col in bol_columns:\n",
    "    sales[col] = sales[col].apply(bool)\n",
    "    "
   ]
  },
  {
   "cell_type": "markdown",
   "id": "4a01495e-5e60-455b-aad4-88c0a6f090cf",
   "metadata": {},
   "source": [
    "### 1. Seleção e estatísticas resumidas: Encontramos o código postal com o preço médio mais alto da casa. Qual é o preço médio das casas desse código postal?"
   ]
  },
  {
   "cell_type": "code",
   "execution_count": 5,
   "id": "f294f36b-01e1-4ff1-b397-915c4c6af488",
   "metadata": {},
   "outputs": [
    {
     "name": "stdout",
     "output_type": "stream",
     "text": [
      "CEP com o preço médio mais alto: 98039\n",
      "Preço médio: 2160606.6\n"
     ]
    }
   ],
   "source": [
    "zipcode_price_avg = sales.groupby('zipcode', {\n",
    "    'average_price': tc.aggregate.MEAN('price')\n",
    "})\n",
    "zipcode_price_avg = zipcode_price_avg.sort('average_price', ascending=False)\n",
    "top_zipcode = zipcode_price_avg[0]\n",
    "print(\"CEP com o preço médio mais alto:\", top_zipcode['zipcode'])\n",
    "print(\"Preço médio:\", top_zipcode['average_price'])"
   ]
  },
  {
   "cell_type": "markdown",
   "id": "b4e496a9-a325-4d41-8a06-315dd8235ad6",
   "metadata": {},
   "source": [
    "### 2. Filtragem de dados: Que fração das casas tem área útil entre 2.000 pés quadrados e 4.000 pés quadrados?\n",
    "\n"
   ]
  },
  {
   "cell_type": "code",
   "execution_count": 21,
   "id": "74cbdc35-92d8-4556-b2d5-942f456a6942",
   "metadata": {},
   "outputs": [
    {
     "name": "stdout",
     "output_type": "stream",
     "text": [
      "Fração de casas com área útil entre 2.000 e 4.000 pés quadrados: 0.4266413732475825\n"
     ]
    }
   ],
   "source": [
    "# Filtrar as casas com área útil entre 2.000 e 4.000 pés quadrados\n",
    "in_range = sales[(sales['sqft_living'] >= 2000) & (sales['sqft_living'] <= 4000)]\n",
    "# Calcular o número total de casas\n",
    "total_houses = sales.num_rows()\n",
    "# Calcular o número de casas que atendem ao critério\n",
    "in_range_count = len(in_range)\n",
    "# Calcular a fração\n",
    "fraction = in_range_count / total_houses\n",
    "# Imprimir a fração\n",
    "print(\"Fração de casas com área útil entre 2.000 e 4.000 pés quadrados:\", fraction)"
   ]
  },
  {
   "cell_type": "markdown",
   "id": "e9f74cef-ffa5-4e94-83bb-9faf17668db2",
   "metadata": {},
   "source": [
    "### 3. Criar um modelo de regressão com vários outros recursos: Qual é a diferença em RMSE entre o modelo treinado com my_features e o modelo treinado com advanced_features?"
   ]
  },
  {
   "cell_type": "code",
   "execution_count": 13,
   "id": "276f2eef-36b9-45c2-ad52-5cb2b4f380a9",
   "metadata": {},
   "outputs": [],
   "source": [
    "#Load dataset\n",
    "train_data, test_data = sales.random_split(.8,seed=0)"
   ]
  },
  {
   "cell_type": "code",
   "execution_count": 16,
   "id": "79a09138-35fe-4be1-b56c-17ccc59bd04c",
   "metadata": {},
   "outputs": [
    {
     "data": {
      "text/html": [
       "<pre>Linear regression:</pre>"
      ],
      "text/plain": [
       "Linear regression:"
      ]
     },
     "metadata": {},
     "output_type": "display_data"
    },
    {
     "data": {
      "text/html": [
       "<pre>--------------------------------------------------------</pre>"
      ],
      "text/plain": [
       "--------------------------------------------------------"
      ]
     },
     "metadata": {},
     "output_type": "display_data"
    },
    {
     "data": {
      "text/html": [
       "<pre>Number of examples          : 17384</pre>"
      ],
      "text/plain": [
       "Number of examples          : 17384"
      ]
     },
     "metadata": {},
     "output_type": "display_data"
    },
    {
     "data": {
      "text/html": [
       "<pre>Number of features          : 6</pre>"
      ],
      "text/plain": [
       "Number of features          : 6"
      ]
     },
     "metadata": {},
     "output_type": "display_data"
    },
    {
     "data": {
      "text/html": [
       "<pre>Number of unpacked features : 6</pre>"
      ],
      "text/plain": [
       "Number of unpacked features : 6"
      ]
     },
     "metadata": {},
     "output_type": "display_data"
    },
    {
     "data": {
      "text/html": [
       "<pre>Number of coefficients    : 115</pre>"
      ],
      "text/plain": [
       "Number of coefficients    : 115"
      ]
     },
     "metadata": {},
     "output_type": "display_data"
    },
    {
     "data": {
      "text/html": [
       "<pre>Starting Newton Method</pre>"
      ],
      "text/plain": [
       "Starting Newton Method"
      ]
     },
     "metadata": {},
     "output_type": "display_data"
    },
    {
     "data": {
      "text/html": [
       "<pre>--------------------------------------------------------</pre>"
      ],
      "text/plain": [
       "--------------------------------------------------------"
      ]
     },
     "metadata": {},
     "output_type": "display_data"
    },
    {
     "data": {
      "text/html": [
       "<pre>+-----------+----------+--------------+--------------------+---------------------------------+</pre>"
      ],
      "text/plain": [
       "+-----------+----------+--------------+--------------------+---------------------------------+"
      ]
     },
     "metadata": {},
     "output_type": "display_data"
    },
    {
     "data": {
      "text/html": [
       "<pre>| Iteration | Passes   | Elapsed Time | Training Max Error | Training Root-Mean-Square Error |</pre>"
      ],
      "text/plain": [
       "| Iteration | Passes   | Elapsed Time | Training Max Error | Training Root-Mean-Square Error |"
      ]
     },
     "metadata": {},
     "output_type": "display_data"
    },
    {
     "data": {
      "text/html": [
       "<pre>+-----------+----------+--------------+--------------------+---------------------------------+</pre>"
      ],
      "text/plain": [
       "+-----------+----------+--------------+--------------------+---------------------------------+"
      ]
     },
     "metadata": {},
     "output_type": "display_data"
    },
    {
     "data": {
      "text/html": [
       "<pre>| 1         | 2        | 0.016991     | 3763208.270523     | 181908.848367                   |</pre>"
      ],
      "text/plain": [
       "| 1         | 2        | 0.016991     | 3763208.270523     | 181908.848367                   |"
      ]
     },
     "metadata": {},
     "output_type": "display_data"
    },
    {
     "data": {
      "text/html": [
       "<pre>+-----------+----------+--------------+--------------------+---------------------------------+</pre>"
      ],
      "text/plain": [
       "+-----------+----------+--------------+--------------------+---------------------------------+"
      ]
     },
     "metadata": {},
     "output_type": "display_data"
    },
    {
     "data": {
      "text/html": [
       "<pre>SUCCESS: Optimal solution found.</pre>"
      ],
      "text/plain": [
       "SUCCESS: Optimal solution found."
      ]
     },
     "metadata": {},
     "output_type": "display_data"
    },
    {
     "data": {
      "text/html": [
       "<pre></pre>"
      ],
      "text/plain": []
     },
     "metadata": {},
     "output_type": "display_data"
    }
   ],
   "source": [
    "# Modelo my_features\n",
    "my_features = ['bedrooms', 'bathrooms', 'sqft_living', 'sqft_lot', 'floors', 'zipcode']\n",
    "my_features_model = tc.linear_regression.create(train_data,target='price',features=my_features,validation_set=None)"
   ]
  },
  {
   "cell_type": "code",
   "execution_count": 15,
   "id": "a304474a-534b-448b-bf03-b7bd69813327",
   "metadata": {},
   "outputs": [
    {
     "data": {
      "text/html": [
       "<pre>Linear regression:</pre>"
      ],
      "text/plain": [
       "Linear regression:"
      ]
     },
     "metadata": {},
     "output_type": "display_data"
    },
    {
     "data": {
      "text/html": [
       "<pre>--------------------------------------------------------</pre>"
      ],
      "text/plain": [
       "--------------------------------------------------------"
      ]
     },
     "metadata": {},
     "output_type": "display_data"
    },
    {
     "data": {
      "text/html": [
       "<pre>Number of examples          : 17384</pre>"
      ],
      "text/plain": [
       "Number of examples          : 17384"
      ]
     },
     "metadata": {},
     "output_type": "display_data"
    },
    {
     "data": {
      "text/html": [
       "<pre>Number of features          : 18</pre>"
      ],
      "text/plain": [
       "Number of features          : 18"
      ]
     },
     "metadata": {},
     "output_type": "display_data"
    },
    {
     "data": {
      "text/html": [
       "<pre>Number of unpacked features : 18</pre>"
      ],
      "text/plain": [
       "Number of unpacked features : 18"
      ]
     },
     "metadata": {},
     "output_type": "display_data"
    },
    {
     "data": {
      "text/html": [
       "<pre>Number of coefficients    : 325</pre>"
      ],
      "text/plain": [
       "Number of coefficients    : 325"
      ]
     },
     "metadata": {},
     "output_type": "display_data"
    },
    {
     "data": {
      "text/html": [
       "<pre>Starting Newton Method</pre>"
      ],
      "text/plain": [
       "Starting Newton Method"
      ]
     },
     "metadata": {},
     "output_type": "display_data"
    },
    {
     "data": {
      "text/html": [
       "<pre>--------------------------------------------------------</pre>"
      ],
      "text/plain": [
       "--------------------------------------------------------"
      ]
     },
     "metadata": {},
     "output_type": "display_data"
    },
    {
     "data": {
      "text/html": [
       "<pre>+-----------+----------+--------------+--------------------+---------------------------------+</pre>"
      ],
      "text/plain": [
       "+-----------+----------+--------------+--------------------+---------------------------------+"
      ]
     },
     "metadata": {},
     "output_type": "display_data"
    },
    {
     "data": {
      "text/html": [
       "<pre>| Iteration | Passes   | Elapsed Time | Training Max Error | Training Root-Mean-Square Error |</pre>"
      ],
      "text/plain": [
       "| Iteration | Passes   | Elapsed Time | Training Max Error | Training Root-Mean-Square Error |"
      ]
     },
     "metadata": {},
     "output_type": "display_data"
    },
    {
     "data": {
      "text/html": [
       "<pre>+-----------+----------+--------------+--------------------+---------------------------------+</pre>"
      ],
      "text/plain": [
       "+-----------+----------+--------------+--------------------+---------------------------------+"
      ]
     },
     "metadata": {},
     "output_type": "display_data"
    },
    {
     "data": {
      "text/html": [
       "<pre>| 1         | 2        | 0.073437     | 3380697.412403     | 144449.623144                   |</pre>"
      ],
      "text/plain": [
       "| 1         | 2        | 0.073437     | 3380697.412403     | 144449.623144                   |"
      ]
     },
     "metadata": {},
     "output_type": "display_data"
    },
    {
     "data": {
      "text/html": [
       "<pre>+-----------+----------+--------------+--------------------+---------------------------------+</pre>"
      ],
      "text/plain": [
       "+-----------+----------+--------------+--------------------+---------------------------------+"
      ]
     },
     "metadata": {},
     "output_type": "display_data"
    },
    {
     "data": {
      "text/html": [
       "<pre>SUCCESS: Optimal solution found.</pre>"
      ],
      "text/plain": [
       "SUCCESS: Optimal solution found."
      ]
     },
     "metadata": {},
     "output_type": "display_data"
    },
    {
     "data": {
      "text/html": [
       "<pre></pre>"
      ],
      "text/plain": []
     },
     "metadata": {},
     "output_type": "display_data"
    },
    {
     "data": {
      "text/plain": [
       "{'max_error': 2597844.564012507, 'rmse': 148032.5373869167}"
      ]
     },
     "execution_count": 15,
     "metadata": {},
     "output_type": "execute_result"
    }
   ],
   "source": [
    "# Modelo advanced_features\n",
    "advanced_features = ['bedrooms', 'bathrooms', 'sqft_living', 'sqft_lot', 'floors',\n",
    "                        'zipcode','condition', 'grade','waterfront','view','sqft_above','sqft_basement','yr_built',\n",
    "                         'yr_renovated','lat','long','sqft_living15','sqft_lot15'] \n",
    "advanced_features_model = tc.linear_regression.create(train_data,target='price',features=advanced_features,validation_set=None)\n"
   ]
  },
  {
   "cell_type": "code",
   "execution_count": 20,
   "id": "9c4e4a09-587d-48cc-93ce-1768fe6b2c94",
   "metadata": {},
   "outputs": [
    {
     "name": "stdout",
     "output_type": "stream",
     "text": [
      "My Feature RMSE: {'max_error': 3486584.509381705, 'rmse': 179542.4333126903}\n",
      "Advanced RMSE: {'max_error': 2597844.564012507, 'rmse': 148032.5373869167}\n"
     ]
    }
   ],
   "source": [
    "# Avaliar os modelos\n",
    "my_features_evaluation = my_features_model.evaluate(test_data)\n",
    "advanced_features_evaluation = advanced_features_model.evaluate(test_data)\n",
    "# Extrair o RMSE dos resultados de avaliação\n",
    "my_features_rmse = my_features_evaluation['rmse']\n",
    "advanced_features_rmse = advanced_features_evaluation['rmse']\n",
    "# Subtrair o RMSE do segundo modelo pelo RMSE do primeiro modelo\n",
    "print(\"My Feature RMSE:\", my_features_evaluation)\n",
    "print(\"Advanced RMSE:\", advanced_features_evaluation )"
   ]
  },
  {
   "cell_type": "code",
   "execution_count": null,
   "id": "17322712-0da8-464d-83de-eb5673ffa2e6",
   "metadata": {},
   "outputs": [],
   "source": []
  }
 ],
 "metadata": {
  "kernelspec": {
   "display_name": "Python 3 (ipykernel)",
   "language": "python",
   "name": "python3"
  },
  "language_info": {
   "codemirror_mode": {
    "name": "ipython",
    "version": 3
   },
   "file_extension": ".py",
   "mimetype": "text/x-python",
   "name": "python",
   "nbconvert_exporter": "python",
   "pygments_lexer": "ipython3",
   "version": "3.8.0"
  }
 },
 "nbformat": 4,
 "nbformat_minor": 5
}
