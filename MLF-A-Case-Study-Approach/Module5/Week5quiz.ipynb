{
 "cells": [
  {
   "cell_type": "markdown",
   "id": "58a6b785-8c09-4e8e-a23c-96f1ced33609",
   "metadata": {},
   "source": [
    "# init"
   ]
  },
  {
   "cell_type": "code",
   "execution_count": 37,
   "id": "0eee0d59-4a0a-4508-b3e8-e478e70ee43a",
   "metadata": {},
   "outputs": [],
   "source": [
    "import turicreate\n",
    "song_data = turicreate.SFrame('song_data.sframe')"
   ]
  },
  {
   "cell_type": "markdown",
   "id": "ae3da62f-1ace-4cf9-be6c-a26dd3d91edc",
   "metadata": {},
   "source": [
    "# 1. Quais dos artistas abaixo tiveram o maior número de usuários únicos ouvindo suas músicas?"
   ]
  },
  {
   "cell_type": "code",
   "execution_count": 40,
   "id": "db569c20-31e0-44b0-8c68-8bfd6d4e4ba9",
   "metadata": {},
   "outputs": [
    {
     "name": "stdout",
     "output_type": "stream",
     "text": [
      "+--------------+--------------+\n",
      "|    artist    | unique_users |\n",
      "+--------------+--------------+\n",
      "| Taylor Swift |     3246     |\n",
      "|  Lady GaGa   |     2928     |\n",
      "|  Kanye West  |     2522     |\n",
      "| Foo Fighters |     2055     |\n",
      "+--------------+--------------+\n",
      "[4 rows x 2 columns]\n",
      "\n"
     ]
    }
   ],
   "source": [
    "# Lista de artistas\n",
    "desired_artists = ['Kanye West', 'Foo Fighters', 'Taylor Swift', 'Lady GaGa']\n",
    "# Criar um SFrame para a contagem de ouvintes únicos por artista\n",
    "artist_listenings = song_data.groupby('artist', operations={'unique_users': turicreate.aggregate.COUNT_DISTINCT('user_id')})\n",
    "# Filtrar o SFrame para incluir apenas os artistas da lista desejada\n",
    "filtered_artists = artist_listenings[artist_listenings['artist'].apply(lambda x: x in desired_artists)]\n",
    "# Ordenar pelo número de ouvintes em ordem decrescente\n",
    "sorted_artists = filtered_artists.sort('unique_users', ascending=False)\n",
    "# Imprimir os resultados\n",
    "print(sorted_artists)"
   ]
  },
  {
   "cell_type": "markdown",
   "id": "51ffecf2-3e36-491c-88e6-d7b3a5cd544e",
   "metadata": {},
   "source": [
    "### 2. Qual dos artistas abaixo é o artista mais popular, aquele com o maior total de listen_count, no conjunto de dados?"
   ]
  },
  {
   "cell_type": "markdown",
   "id": "13a3a592-c1ec-43fb-a8de-1021b391af5d",
   "metadata": {},
   "source": [
    "### 3. Qual dos artistas abaixo é o artista menos popular, aquele com o menor total de listen_count, no conjunto de dados? "
   ]
  },
  {
   "cell_type": "code",
   "execution_count": 25,
   "id": "5fc7eaf4-7584-409b-ae27-626e58d714e7",
   "metadata": {},
   "outputs": [
    {
     "name": "stdout",
     "output_type": "stream",
     "text": [
      "Most listened artist:  Kings Of Leon\n",
      "Less listened artist:  William Tabbert\n"
     ]
    }
   ],
   "source": [
    "artist_listen_count = song_data.groupby('artist', {'total_listen_count': turicreate.aggregate.SUM('listen_count')})\n",
    "listened_artist = artist_listen_count.sort('total_listen_count', ascending=False)\n",
    "print(\"Most listened artist: \", listened_artist[0]['artist'])\n",
    "print(\"Less listened artist: \", listened_artist[-1]['artist'])"
   ]
  },
  {
   "cell_type": "markdown",
   "id": "b11f56f1-dd15-43ab-881c-066de028c0ed",
   "metadata": {},
   "source": [
    "#### Opcional"
   ]
  },
  {
   "cell_type": "code",
   "execution_count": null,
   "id": "617d4ea2-a568-4dae-8a53-d2de334de07f",
   "metadata": {},
   "outputs": [],
   "source": [
    "# treino de modelo de items similares\n",
    "train_data,test_data = song_data.random_split(.8,seed=0)\n",
    "personalized_model = turicreate.item_similarity_recommender.create(train_data,\n",
    "                                                                user_id = 'user_id',\n",
    "                                                                  item_id = 'song')"
   ]
  },
  {
   "cell_type": "code",
   "execution_count": null,
   "id": "824f1ce2-14df-4864-9075-0ac5c5975834",
   "metadata": {},
   "outputs": [],
   "source": [
    "# subset que pega 10k de usuarios de testdata unicos\n",
    "subset_test_users = test_data['user_id'].unique()[0:10000]\n",
    "# Recomenda uma musica para cada usuario de subset\n",
    "recommend_subset = personalized_model.recommend(subset_test_users,k=1)\n",
    "#contar a frequência com que cada música é recomendada\n",
    "recommend_subset.groupby('song', {'count': turicreate.aggregate.COUNT()}).sort('count', ascending=False)"
   ]
  },
  {
   "cell_type": "code",
   "execution_count": null,
   "id": "2cb8eb37-9eab-4954-ac4b-cdecdfa98be9",
   "metadata": {},
   "outputs": [
    {
     "data": {
      "text/html": [
       "<pre>recommendations finished on 1000/10000 queries. users per second: 13474.9</pre>"
      ],
      "text/plain": [
       "recommendations finished on 1000/10000 queries. users per second: 13474.9"
      ]
     },
     "metadata": {},
     "output_type": "display_data"
    },
    {
     "data": {
      "text/html": [
       "<pre>recommendations finished on 2000/10000 queries. users per second: 15159.1</pre>"
      ],
      "text/plain": [
       "recommendations finished on 2000/10000 queries. users per second: 15159.1"
      ]
     },
     "metadata": {},
     "output_type": "display_data"
    },
    {
     "data": {
      "text/html": [
       "<pre>recommendations finished on 3000/10000 queries. users per second: 16178.2</pre>"
      ],
      "text/plain": [
       "recommendations finished on 3000/10000 queries. users per second: 16178.2"
      ]
     },
     "metadata": {},
     "output_type": "display_data"
    },
    {
     "data": {
      "text/html": [
       "<pre>recommendations finished on 4000/10000 queries. users per second: 16004.2</pre>"
      ],
      "text/plain": [
       "recommendations finished on 4000/10000 queries. users per second: 16004.2"
      ]
     },
     "metadata": {},
     "output_type": "display_data"
    },
    {
     "data": {
      "text/html": [
       "<pre>recommendations finished on 5000/10000 queries. users per second: 15966.6</pre>"
      ],
      "text/plain": [
       "recommendations finished on 5000/10000 queries. users per second: 15966.6"
      ]
     },
     "metadata": {},
     "output_type": "display_data"
    },
    {
     "data": {
      "text/html": [
       "<pre>recommendations finished on 6000/10000 queries. users per second: 16181.3</pre>"
      ],
      "text/plain": [
       "recommendations finished on 6000/10000 queries. users per second: 16181.3"
      ]
     },
     "metadata": {},
     "output_type": "display_data"
    },
    {
     "data": {
      "text/html": [
       "<pre>recommendations finished on 7000/10000 queries. users per second: 16370.7</pre>"
      ],
      "text/plain": [
       "recommendations finished on 7000/10000 queries. users per second: 16370.7"
      ]
     },
     "metadata": {},
     "output_type": "display_data"
    },
    {
     "data": {
      "text/html": [
       "<pre>recommendations finished on 8000/10000 queries. users per second: 16427.5</pre>"
      ],
      "text/plain": [
       "recommendations finished on 8000/10000 queries. users per second: 16427.5"
      ]
     },
     "metadata": {},
     "output_type": "display_data"
    },
    {
     "data": {
      "text/html": [
       "<pre>recommendations finished on 9000/10000 queries. users per second: 16725.2</pre>"
      ],
      "text/plain": [
       "recommendations finished on 9000/10000 queries. users per second: 16725.2"
      ]
     },
     "metadata": {},
     "output_type": "display_data"
    },
    {
     "data": {
      "text/html": [
       "<pre>recommendations finished on 10000/10000 queries. users per second: 16790.2</pre>"
      ],
      "text/plain": [
       "recommendations finished on 10000/10000 queries. users per second: 16790.2"
      ]
     },
     "metadata": {},
     "output_type": "display_data"
    },
    {
     "data": {
      "text/html": [
       "<div style=\"max-height:1000px;max-width:1500px;overflow:auto;\"><table frame=\"box\" rules=\"cols\">\n",
       "    <tr>\n",
       "        <th style=\"padding-left: 1em; padding-right: 1em; text-align: center\">song</th>\n",
       "        <th style=\"padding-left: 1em; padding-right: 1em; text-align: center\">count</th>\n",
       "    </tr>\n",
       "    <tr>\n",
       "        <td style=\"padding-left: 1em; padding-right: 1em; text-align: center; vertical-align: top\">Undo - Björk</td>\n",
       "        <td style=\"padding-left: 1em; padding-right: 1em; text-align: center; vertical-align: top\">435</td>\n",
       "    </tr>\n",
       "    <tr>\n",
       "        <td style=\"padding-left: 1em; padding-right: 1em; text-align: center; vertical-align: top\">Secrets - OneRepublic</td>\n",
       "        <td style=\"padding-left: 1em; padding-right: 1em; text-align: center; vertical-align: top\">386</td>\n",
       "    </tr>\n",
       "    <tr>\n",
       "        <td style=\"padding-left: 1em; padding-right: 1em; text-align: center; vertical-align: top\">Revelry - Kings Of Leon</td>\n",
       "        <td style=\"padding-left: 1em; padding-right: 1em; text-align: center; vertical-align: top\">226</td>\n",
       "    </tr>\n",
       "    <tr>\n",
       "        <td style=\"padding-left: 1em; padding-right: 1em; text-align: center; vertical-align: top\">You&#x27;re The One - Dwight<br>Yoakam ...</td>\n",
       "        <td style=\"padding-left: 1em; padding-right: 1em; text-align: center; vertical-align: top\">161</td>\n",
       "    </tr>\n",
       "    <tr>\n",
       "        <td style=\"padding-left: 1em; padding-right: 1em; text-align: center; vertical-align: top\">Fireflies - Charttraxx<br>Karaoke ...</td>\n",
       "        <td style=\"padding-left: 1em; padding-right: 1em; text-align: center; vertical-align: top\">121</td>\n",
       "    </tr>\n",
       "    <tr>\n",
       "        <td style=\"padding-left: 1em; padding-right: 1em; text-align: center; vertical-align: top\">Sehr kosmisch - Harmonia</td>\n",
       "        <td style=\"padding-left: 1em; padding-right: 1em; text-align: center; vertical-align: top\">98</td>\n",
       "    </tr>\n",
       "    <tr>\n",
       "        <td style=\"padding-left: 1em; padding-right: 1em; text-align: center; vertical-align: top\">Horn Concerto No. 4 in E<br>flat K495: II. Romance ...</td>\n",
       "        <td style=\"padding-left: 1em; padding-right: 1em; text-align: center; vertical-align: top\">94</td>\n",
       "    </tr>\n",
       "    <tr>\n",
       "        <td style=\"padding-left: 1em; padding-right: 1em; text-align: center; vertical-align: top\">Hey_ Soul Sister - Train</td>\n",
       "        <td style=\"padding-left: 1em; padding-right: 1em; text-align: center; vertical-align: top\">94</td>\n",
       "    </tr>\n",
       "    <tr>\n",
       "        <td style=\"padding-left: 1em; padding-right: 1em; text-align: center; vertical-align: top\">OMG - Usher featuring<br>will.i.am ...</td>\n",
       "        <td style=\"padding-left: 1em; padding-right: 1em; text-align: center; vertical-align: top\">61</td>\n",
       "    </tr>\n",
       "    <tr>\n",
       "        <td style=\"padding-left: 1em; padding-right: 1em; text-align: center; vertical-align: top\">Dog Days Are Over (Radio<br>Edit) - Florence + The ...</td>\n",
       "        <td style=\"padding-left: 1em; padding-right: 1em; text-align: center; vertical-align: top\">46</td>\n",
       "    </tr>\n",
       "</table>\n",
       "[3142 rows x 2 columns]<br/>Note: Only the head of the SFrame is printed.<br/>You can use print_rows(num_rows=m, num_columns=n) to print more rows and columns.\n",
       "</div>"
      ],
      "text/plain": [
       "Columns:\n",
       "\tsong\tstr\n",
       "\tcount\tint\n",
       "\n",
       "Rows: 3142\n",
       "\n",
       "Data:\n",
       "+--------------------------------+-------+\n",
       "|              song              | count |\n",
       "+--------------------------------+-------+\n",
       "|          Undo - Björk          |  435  |\n",
       "|     Secrets - OneRepublic      |  386  |\n",
       "|    Revelry - Kings Of Leon     |  226  |\n",
       "| You're The One - Dwight Yoakam |  161  |\n",
       "| Fireflies - Charttraxx Karaoke |  121  |\n",
       "|    Sehr kosmisch - Harmonia    |   98  |\n",
       "| Horn Concerto No. 4 in E f...  |   94  |\n",
       "|    Hey_ Soul Sister - Train    |   94  |\n",
       "| OMG - Usher featuring will...  |   61  |\n",
       "| Dog Days Are Over (Radio E...  |   46  |\n",
       "+--------------------------------+-------+\n",
       "[3142 rows x 2 columns]\n",
       "Note: Only the head of the SFrame is printed.\n",
       "You can use print_rows(num_rows=m, num_columns=n) to print more rows and columns."
      ]
     },
     "execution_count": 36,
     "metadata": {},
     "output_type": "execute_result"
    }
   ],
   "source": []
  },
  {
   "cell_type": "code",
   "execution_count": null,
   "id": "9fc813c3-f6df-4b6e-9cb7-5e8910ff0ccd",
   "metadata": {},
   "outputs": [],
   "source": []
  }
 ],
 "metadata": {
  "kernelspec": {
   "display_name": "Python 3 (ipykernel)",
   "language": "python",
   "name": "python3"
  },
  "language_info": {
   "codemirror_mode": {
    "name": "ipython",
    "version": 3
   },
   "file_extension": ".py",
   "mimetype": "text/x-python",
   "name": "python",
   "nbconvert_exporter": "python",
   "pygments_lexer": "ipython3",
   "version": "3.8.0"
  }
 },
 "nbformat": 4,
 "nbformat_minor": 5
}
