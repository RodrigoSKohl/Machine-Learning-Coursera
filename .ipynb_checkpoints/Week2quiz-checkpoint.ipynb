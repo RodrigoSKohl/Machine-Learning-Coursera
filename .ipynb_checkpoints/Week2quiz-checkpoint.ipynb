{
 "cells": [
  {
   "cell_type": "markdown",
   "id": "05cdecac-bccb-4e66-86be-925fed800a7e",
   "metadata": {},
   "source": [
    "# Previsão de atribuição de preços de imóveis"
   ]
  },
  {
   "cell_type": "markdown",
   "id": "e7c858a4-cb19-452b-9943-8374e7830af5",
   "metadata": {},
   "source": [
    "## Init "
   ]
  },
  {
   "cell_type": "code",
   "execution_count": 1,
   "id": "f4ef9ec8-cf3e-423d-831b-78bf0cc879bc",
   "metadata": {},
   "outputs": [
    {
     "ename": "OSError",
     "evalue": "/mnt/c/_repositories/Machine-Learning-Coursera/home_data.sframe not found. ErrMsg: file not exist in /mnt/c/_repositories/Machine-Learning-Coursera/home_data.sframe",
     "output_type": "error",
     "traceback": [
      "\u001b[0;31m---------------------------------------------------------------------------\u001b[0m",
      "\u001b[0;31mOSError\u001b[0m                                   Traceback (most recent call last)",
      "File \u001b[0;32m~/.pyenv/versions/3.8.0/envs/.venv/lib/python3.8/site-packages/turicreate/data_structures/sframe.py:834\u001b[0m, in \u001b[0;36mSFrame.__init__\u001b[0;34m(self, data, format, _proxy)\u001b[0m\n\u001b[1;32m    833\u001b[0m     url \u001b[38;5;241m=\u001b[39m _make_internal_url(data)\n\u001b[0;32m--> 834\u001b[0m     \u001b[38;5;28;43mself\u001b[39;49m\u001b[38;5;241;43m.\u001b[39;49m\u001b[43m__proxy__\u001b[49m\u001b[38;5;241;43m.\u001b[39;49m\u001b[43mload_from_sframe_index\u001b[49m\u001b[43m(\u001b[49m\u001b[43murl\u001b[49m\u001b[43m)\u001b[49m\n\u001b[1;32m    835\u001b[0m \u001b[38;5;28;01melif\u001b[39;00m _format \u001b[38;5;241m==\u001b[39m \u001b[38;5;124m\"\u001b[39m\u001b[38;5;124mempty\u001b[39m\u001b[38;5;124m\"\u001b[39m:\n",
      "File \u001b[0;32mcy_sframe.pyx:77\u001b[0m, in \u001b[0;36mturicreate._cython.cy_sframe.UnitySFrameProxy.load_from_sframe_index\u001b[0;34m()\u001b[0m\n",
      "File \u001b[0;32mcy_sframe.pyx:80\u001b[0m, in \u001b[0;36mturicreate._cython.cy_sframe.UnitySFrameProxy.load_from_sframe_index\u001b[0;34m()\u001b[0m\n",
      "\u001b[0;31mOSError\u001b[0m: /mnt/c/_repositories/Machine-Learning-Coursera/home_data.sframe not found. ErrMsg: file not exist in /mnt/c/_repositories/Machine-Learning-Coursera/home_data.sframe",
      "\nDuring handling of the above exception, another exception occurred:\n",
      "\u001b[0;31mOSError\u001b[0m                                   Traceback (most recent call last)",
      "Cell \u001b[0;32mIn[1], line 2\u001b[0m\n\u001b[1;32m      1\u001b[0m \u001b[38;5;28;01mimport\u001b[39;00m \u001b[38;5;21;01mturicreate\u001b[39;00m\n\u001b[0;32m----> 2\u001b[0m sales \u001b[38;5;241m=\u001b[39m \u001b[43mturicreate\u001b[49m\u001b[38;5;241;43m.\u001b[39;49m\u001b[43mSFrame\u001b[49m\u001b[43m(\u001b[49m\u001b[38;5;124;43m'\u001b[39;49m\u001b[38;5;124;43mhome_data.sframe\u001b[39;49m\u001b[38;5;124;43m'\u001b[39;49m\u001b[43m)\u001b[49m\n\u001b[1;32m      3\u001b[0m \u001b[38;5;66;03m# Definir os nomes das colunas\u001b[39;00m\n\u001b[1;32m      4\u001b[0m str_columns \u001b[38;5;241m=\u001b[39m [\u001b[38;5;124m'\u001b[39m\u001b[38;5;124mbathrooms\u001b[39m\u001b[38;5;124m'\u001b[39m, \u001b[38;5;124m'\u001b[39m\u001b[38;5;124mbedrooms\u001b[39m\u001b[38;5;124m'\u001b[39m, \u001b[38;5;124m'\u001b[39m\u001b[38;5;124mfloors\u001b[39m\u001b[38;5;124m'\u001b[39m, \u001b[38;5;124m'\u001b[39m\u001b[38;5;124mzipcode\u001b[39m\u001b[38;5;124m'\u001b[39m, \u001b[38;5;124m'\u001b[39m\u001b[38;5;124mcondition\u001b[39m\u001b[38;5;124m'\u001b[39m, \u001b[38;5;124m'\u001b[39m\u001b[38;5;124mview\u001b[39m\u001b[38;5;124m'\u001b[39m, \u001b[38;5;124m'\u001b[39m\u001b[38;5;124mgrade\u001b[39m\u001b[38;5;124m'\u001b[39m, \u001b[38;5;124m'\u001b[39m\u001b[38;5;124myr_built\u001b[39m\u001b[38;5;124m'\u001b[39m, \u001b[38;5;124m'\u001b[39m\u001b[38;5;124myr_renovated\u001b[39m\u001b[38;5;124m'\u001b[39m]\n",
      "File \u001b[0;32m~/.pyenv/versions/3.8.0/envs/.venv/lib/python3.8/site-packages/turicreate/data_structures/sframe.py:838\u001b[0m, in \u001b[0;36mSFrame.__init__\u001b[0;34m(self, data, format, _proxy)\u001b[0m\n\u001b[1;32m    836\u001b[0m     \u001b[38;5;28;01mpass\u001b[39;00m\n\u001b[1;32m    837\u001b[0m \u001b[38;5;28;01melse\u001b[39;00m:\n\u001b[0;32m--> 838\u001b[0m     \u001b[38;5;28;01mraise\u001b[39;00m \u001b[38;5;167;01mValueError\u001b[39;00m(\u001b[38;5;124m\"\u001b[39m\u001b[38;5;124mUnknown input type: \u001b[39m\u001b[38;5;124m\"\u001b[39m \u001b[38;5;241m+\u001b[39m \u001b[38;5;28mformat\u001b[39m)\n",
      "File \u001b[0;32m~/.pyenv/versions/3.8.0/envs/.venv/lib/python3.8/site-packages/turicreate/_cython/context.py:50\u001b[0m, in \u001b[0;36mdebug_trace.__exit__\u001b[0;34m(self, exc_type, exc_value, traceback)\u001b[0m\n\u001b[1;32m     47\u001b[0m \u001b[38;5;28;01mif\u001b[39;00m exc_type:\n\u001b[1;32m     48\u001b[0m     \u001b[38;5;28;01mif\u001b[39;00m \u001b[38;5;129;01mnot\u001b[39;00m \u001b[38;5;28mself\u001b[39m\u001b[38;5;241m.\u001b[39mshow_cython_trace:\n\u001b[1;32m     49\u001b[0m         \u001b[38;5;66;03m# To hide cython trace, we re-raise from here\u001b[39;00m\n\u001b[0;32m---> 50\u001b[0m         \u001b[38;5;28;01mraise\u001b[39;00m exc_type(exc_value)\n\u001b[1;32m     51\u001b[0m     \u001b[38;5;28;01melse\u001b[39;00m:\n\u001b[1;32m     52\u001b[0m         \u001b[38;5;66;03m# To show the full trace, we do nothing and let exception propagate\u001b[39;00m\n\u001b[1;32m     53\u001b[0m \n\u001b[1;32m     54\u001b[0m         \u001b[38;5;66;03m# In verbose mode we print the server log\u001b[39;00m\n\u001b[1;32m     55\u001b[0m         \u001b[38;5;28;01mif\u001b[39;00m \u001b[38;5;28mself\u001b[39m\u001b[38;5;241m.\u001b[39mshow_server_log:\n",
      "\u001b[0;31mOSError\u001b[0m: /mnt/c/_repositories/Machine-Learning-Coursera/home_data.sframe not found. ErrMsg: file not exist in /mnt/c/_repositories/Machine-Learning-Coursera/home_data.sframe"
     ]
    }
   ],
   "source": [
    "import turicreate\n",
    "sales = turicreate.SFrame('home_data.sframe')\n",
    "# Definir os nomes das colunas\n",
    "str_columns = ['bathrooms', 'bedrooms', 'floors', 'zipcode', 'condition', 'view', 'grade', 'yr_built', 'yr_renovated']\n",
    "int_columns = ['sqft_living', 'sqft_lot', 'price', 'sqft_above', 'sqft_basement', 'sqft_living15', 'sqft_lot15']\n",
    "bol_columns = ['waterfront']\n",
    "# Aplicar conversões ao SFrame\n",
    "for col in str_columns:\n",
    "    sales[col] = sales[col].apply(str)\n",
    "\n",
    "for col in int_columns:\n",
    "    sales[col] = sales[col].apply(int)\n",
    "\n",
    "for col in bol_columns:\n",
    "    sales[col] = sales[col].apply(bool)\n",
    "    "
   ]
  },
  {
   "cell_type": "markdown",
   "id": "4a01495e-5e60-455b-aad4-88c0a6f090cf",
   "metadata": {},
   "source": [
    "### 1. Seleção e estatísticas resumidas: Encontramos o código postal com o preço médio mais alto da casa. Qual é o preço médio das casas desse código postal?"
   ]
  },
  {
   "cell_type": "code",
   "execution_count": null,
   "id": "f294f36b-01e1-4ff1-b397-915c4c6af488",
   "metadata": {},
   "outputs": [],
   "source": [
    "high_cep = sales"
   ]
  }
 ],
 "metadata": {
  "kernelspec": {
   "display_name": "Python 3 (ipykernel)",
   "language": "python",
   "name": "python3"
  },
  "language_info": {
   "codemirror_mode": {
    "name": "ipython",
    "version": 3
   },
   "file_extension": ".py",
   "mimetype": "text/x-python",
   "name": "python",
   "nbconvert_exporter": "python",
   "pygments_lexer": "ipython3",
   "version": "3.8.0"
  }
 },
 "nbformat": 4,
 "nbformat_minor": 5
}
